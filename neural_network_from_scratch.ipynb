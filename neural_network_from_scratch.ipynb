{
  "nbformat": 4,
  "nbformat_minor": 0,
  "metadata": {
    "colab": {
      "provenance": [],
      "authorship_tag": "ABX9TyNjjLUAhCKL+l1BKa1Iu6Ki",
      "include_colab_link": true
    },
    "kernelspec": {
      "name": "python3",
      "display_name": "Python 3"
    },
    "language_info": {
      "name": "python"
    }
  },
  "cells": [
    {
      "cell_type": "markdown",
      "metadata": {
        "id": "view-in-github",
        "colab_type": "text"
      },
      "source": [
        "<a href=\"https://colab.research.google.com/github/abhaanisha/blog/blob/main/neural_network_from_scratch.ipynb\" target=\"_parent\"><img src=\"https://colab.research.google.com/assets/colab-badge.svg\" alt=\"Open In Colab\"/></a>"
      ]
    },
    {
      "cell_type": "markdown",
      "source": [
        "> This is an example of a simple feed-forward neural network with one hidden layer and the sigmoid function as the activation function. It's written in Python, so make sure you have a Python environment ready for running the code.\n",
        "\n"
      ],
      "metadata": {
        "id": "DSMHgnukRinh"
      }
    },
    {
      "cell_type": "code",
      "execution_count": 1,
      "metadata": {
        "id": "f0lcpKkBQyPS"
      },
      "outputs": [],
      "source": [
        "import numpy as np\n",
        "\n",
        "def sigmoid(x):\n",
        "    return 1 / (1 + np.exp(-x))\n",
        "\n",
        "def sigmoid_derivative(x):\n",
        "    return x * (1 - x)\n",
        "\n",
        "class NeuralNetwork:\n",
        "    def __init__(self, x, y):\n",
        "        self.input      = x\n",
        "        self.weights1   = np.random.rand(self.input.shape[1], 4)\n",
        "        self.weights2   = np.random.rand(4, 1)\n",
        "        self.y          = y\n",
        "        self.output     = np.zeros(self.y.shape)\n",
        "\n",
        "    def feedforward(self):\n",
        "        self.layer1 = sigmoid(np.dot(self.input, self.weights1))\n",
        "        self.output = sigmoid(np.dot(self.layer1, self.weights2))\n",
        "\n",
        "    def backprop(self):\n",
        "        # application of the chain rule to find derivative of the loss function with respect to weights2 and weights1\n",
        "        d_weights2 = np.dot(self.layer1.T, (2*(self.y - self.output) * sigmoid_derivative(self.output)))\n",
        "        d_weights1 = np.dot(self.input.T,  (np.dot(2*(self.y - self.output) * sigmoid_derivative(self.output), self.weights2.T) * sigmoid_derivative(self.layer1)))\n",
        "\n",
        "        # update the weights with the derivative (slope) of the loss function\n",
        "        self.weights1 += d_weights1\n",
        "        self.weights2 += d_weights2\n"
      ]
    },
    {
      "cell_type": "markdown",
      "source": [
        "### This network will learn to perform the XOR operation. Note that the number of iterations (epochs) is set to 1500\n",
        "\n",
        "> This example is very basic. Real-world neural networks will have more layers, more complex architectures, additional methods for preventing overfitting (like dropout), more sophisticated weight initialization strategies, and often use other packages, like TensorFlow or PyTorch, for performance.\n"
      ],
      "metadata": {
        "id": "kUu14SD0SOCK"
      }
    },
    {
      "cell_type": "code",
      "source": [
        "if __name__ == \"__main__\":\n",
        "    X = np.array([[0,0,1],\n",
        "                  [0,1,1],\n",
        "                  [1,0,1],\n",
        "                  [1,1,1]])\n",
        "    y = np.array([[0],[1],[1],[0]])\n",
        "\n",
        "    nn = NeuralNetwork(X,y)\n",
        "\n",
        "    for i in range(1500):\n",
        "        nn.feedforward()\n",
        "        nn.backprop()\n",
        "\n",
        "    print(nn.output)\n"
      ],
      "metadata": {
        "colab": {
          "base_uri": "https://localhost:8080/"
        },
        "id": "mBRkN34mQ8dR",
        "outputId": "978823d6-1479-4ba6-8d5d-559c9fb374f7"
      },
      "execution_count": 2,
      "outputs": [
        {
          "output_type": "stream",
          "name": "stdout",
          "text": [
            "[[0.01199721]\n",
            " [0.97402568]\n",
            " [0.97671612]\n",
            " [0.02781269]]\n"
          ]
        }
      ]
    },
    {
      "cell_type": "code",
      "source": [],
      "metadata": {
        "id": "Tdk3kfeDRNnD"
      },
      "execution_count": null,
      "outputs": []
    }
  ]
}